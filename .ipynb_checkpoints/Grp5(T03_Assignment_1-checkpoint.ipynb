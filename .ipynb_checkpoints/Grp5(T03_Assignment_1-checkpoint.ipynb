{
 "cells": [
  {
   "cell_type": "markdown",
   "metadata": {},
   "source": [
    "## CSCI 316 Group Assignment 1\n",
    "### Team 5 ( T03 )\n",
    "Bryan Choo (7060452) & Lim Zhi Yang ( ) "
   ]
  }
 ],
 "metadata": {},
 "nbformat": 4,
 "nbformat_minor": 4
}
